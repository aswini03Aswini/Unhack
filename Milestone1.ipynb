{
  "nbformat": 4,
  "nbformat_minor": 0,
  "metadata": {
    "colab": {
      "provenance": [],
      "authorship_tag": "ABX9TyPynS8NlujwJVgU0PbG4urL",
      "include_colab_link": true
    },
    "kernelspec": {
      "name": "python3",
      "display_name": "Python 3"
    },
    "language_info": {
      "name": "python"
    }
  },
  "cells": [
    {
      "cell_type": "markdown",
      "metadata": {
        "id": "view-in-github",
        "colab_type": "text"
      },
      "source": [
        "<a href=\"https://colab.research.google.com/github/aswini03Aswini/Unhack/blob/main/Milestone1.ipynb\" target=\"_parent\"><img src=\"https://colab.research.google.com/assets/colab-badge.svg\" alt=\"Open In Colab\"/></a>"
      ]
    },
    {
      "cell_type": "code",
      "execution_count": 2,
      "metadata": {
        "colab": {
          "base_uri": "https://localhost:8080/"
        },
        "id": "hcRUxfdp9hXh",
        "outputId": "8ac4eafe-1c4b-4fe7-a35f-f97318efb114"
      },
      "outputs": [
        {
          "output_type": "stream",
          "name": "stdout",
          "text": [
            "Requirement already satisfied: opencv-python-headless in /usr/local/lib/python3.10/dist-packages (4.10.0.84)\n",
            "Requirement already satisfied: pandas in /usr/local/lib/python3.10/dist-packages (2.1.4)\n",
            "Requirement already satisfied: numpy>=1.21.2 in /usr/local/lib/python3.10/dist-packages (from opencv-python-headless) (1.26.4)\n",
            "Requirement already satisfied: python-dateutil>=2.8.2 in /usr/local/lib/python3.10/dist-packages (from pandas) (2.8.2)\n",
            "Requirement already satisfied: pytz>=2020.1 in /usr/local/lib/python3.10/dist-packages (from pandas) (2024.1)\n",
            "Requirement already satisfied: tzdata>=2022.1 in /usr/local/lib/python3.10/dist-packages (from pandas) (2024.1)\n",
            "Requirement already satisfied: six>=1.5 in /usr/local/lib/python3.10/dist-packages (from python-dateutil>=2.8.2->pandas) (1.16.0)\n"
          ]
        }
      ],
      "source": [
        "pip install opencv-python-headless pandas"
      ]
    },
    {
      "cell_type": "code",
      "source": [
        "import zipfile\n",
        "import os\n",
        "\n",
        "# Unzip the dataset\n",
        "zip_path = '/content/DataSet.zip'\n",
        "with zipfile.ZipFile(zip_path, 'r') as zip_ref:\n",
        "    zip_ref.extractall('/content/dataset')\n",
        "\n",
        "# List the files\n",
        "dataset_path = '/content/dataset'\n",
        "print(os.listdir(dataset_path))\n"
      ],
      "metadata": {
        "colab": {
          "base_uri": "https://localhost:8080/"
        },
        "id": "7YHFOugX77m3",
        "outputId": "731bcd71-2ee2-4832-ea28-af750b5ac2d4"
      },
      "execution_count": 6,
      "outputs": [
        {
          "output_type": "stream",
          "name": "stdout",
          "text": [
            "['DataSet']\n"
          ]
        }
      ]
    },
    {
      "cell_type": "code",
      "source": [
        "import cv2\n",
        "import pandas as pd\n",
        "import os\n",
        "\n",
        "def load_templates(template_folder):\n",
        "    templates = {}\n",
        "    for filename in os.listdir(template_folder):\n",
        "        if filename.endswith(\".jpg\") or filename.endswith(\".png\") or filename.endswith(\".PNG\"):\n",
        "            template_path = os.path.join(template_folder, filename)\n",
        "            templates[filename] = cv2.imread(template_path, 0)\n",
        "    return templates\n",
        "\n",
        "def match_template(image, templates):\n",
        "    gray_image = cv2.cvtColor(image, cv2.COLOR_BGR2GRAY)\n",
        "    detected_speed = None\n",
        "    max_val = 0\n",
        "\n",
        "    for template_name, template in templates.items():\n",
        "        result = cv2.matchTemplate(gray_image, template,cv2.TM_CCOEFF_NORMED)\n",
        "        _, max_val_curr, _, _ = cv2.minMaxLoc(result)\n",
        "\n",
        "        if max_val_curr > max_val:\n",
        "            max_val = max_val_curr\n",
        "            detected_speed = template_name\n",
        "\n",
        "    if detected_speed:\n",
        "        return detected_speed.split('.')[0]  # Assuming the template filenames are the speed limits (e.g., '30.jpg')\n",
        "    return None\n",
        "\n",
        "def process_images(input_folder, template_folder, output_csv):\n",
        "    templates = load_templates(template_folder)\n",
        "    results = []\n",
        "\n",
        "    for filename in os.listdir(input_folder):\n",
        "        if filename.endswith(\".jpg\") or filename.endswith(\".png\"):\n",
        "            image_path = os.path.join(input_folder, filename)\n",
        "            image = cv2.imread(image_path)\n",
        "            speed_limit = match_template(image, templates)\n",
        "            results.append([filename, speed_limit[9:]])\n",
        "\n",
        "    df = pd.DataFrame(results, columns=[\"Input image name\", \"Speed limit\"])\n",
        "    df.to_csv(output_csv, index=False)\n",
        "\n",
        "# Define your paths\n",
        "\n",
        "input_folder='/content/dataset/DataSet/Milestone 1'\n",
        "template_folder='/content/dataset/DataSet/Template images'\n",
        "output_csv='M1_Output.csv'\n",
        "\n",
        "# Run the process\n",
        "process_images(input_folder, template_folder, output_csv)\n",
        "\n"
      ],
      "metadata": {
        "id": "WSrWfF2wIN3W"
      },
      "execution_count": 9,
      "outputs": []
    }
  ]
}