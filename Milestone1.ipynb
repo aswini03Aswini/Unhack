{
  "nbformat": 4,
  "nbformat_minor": 0,
  "metadata": {
    "colab": {
      "provenance": [],
      "authorship_tag": "ABX9TyMJFozxcco54fBX/KgZOyJV",
      "include_colab_link": true
    },
    "kernelspec": {
      "name": "python3",
      "display_name": "Python 3"
    },
    "language_info": {
      "name": "python"
    }
  },
  "cells": [
    {
      "cell_type": "markdown",
      "metadata": {
        "id": "view-in-github",
        "colab_type": "text"
      },
      "source": [
        "<a href=\"https://colab.research.google.com/github/aswini03Aswini/Unhack/blob/main/Milestone1.ipynb\" target=\"_parent\"><img src=\"https://colab.research.google.com/assets/colab-badge.svg\" alt=\"Open In Colab\"/></a>"
      ]
    },
    {
      "cell_type": "code",
      "execution_count": 2,
      "metadata": {
        "colab": {
          "base_uri": "https://localhost:8080/"
        },
        "id": "hcRUxfdp9hXh",
        "outputId": "8ac4eafe-1c4b-4fe7-a35f-f97318efb114"
      },
      "outputs": [
        {
          "output_type": "stream",
          "name": "stdout",
          "text": [
            "Requirement already satisfied: opencv-python-headless in /usr/local/lib/python3.10/dist-packages (4.10.0.84)\n",
            "Requirement already satisfied: pandas in /usr/local/lib/python3.10/dist-packages (2.1.4)\n",
            "Requirement already satisfied: numpy>=1.21.2 in /usr/local/lib/python3.10/dist-packages (from opencv-python-headless) (1.26.4)\n",
            "Requirement already satisfied: python-dateutil>=2.8.2 in /usr/local/lib/python3.10/dist-packages (from pandas) (2.8.2)\n",
            "Requirement already satisfied: pytz>=2020.1 in /usr/local/lib/python3.10/dist-packages (from pandas) (2024.1)\n",
            "Requirement already satisfied: tzdata>=2022.1 in /usr/local/lib/python3.10/dist-packages (from pandas) (2024.1)\n",
            "Requirement already satisfied: six>=1.5 in /usr/local/lib/python3.10/dist-packages (from python-dateutil>=2.8.2->pandas) (1.16.0)\n"
          ]
        }
      ],
      "source": [
        "pip install opencv-python-headless pandas"
      ]
    },
    {
      "cell_type": "code",
      "source": [
        "import zipfile\n",
        "import os\n",
        "\n",
        "# Unzip the dataset\n",
        "zip_path = '/content/DataSet.zip'\n",
        "with zipfile.ZipFile(zip_path, 'r') as zip_ref:\n",
        "    zip_ref.extractall('/content/dataset')\n",
        "\n",
        "# List the files\n",
        "dataset_path = '/content/dataset'\n",
        "print(os.listdir(dataset_path))\n"
      ],
      "metadata": {
        "colab": {
          "base_uri": "https://localhost:8080/"
        },
        "id": "7YHFOugX77m3",
        "outputId": "731bcd71-2ee2-4832-ea28-af750b5ac2d4"
      },
      "execution_count": 6,
      "outputs": [
        {
          "output_type": "stream",
          "name": "stdout",
          "text": [
            "['DataSet']\n"
          ]
        }
      ]
    },
    {
      "cell_type": "code",
      "source": [
        "import cv2\n",
        "import pandas as pd\n",
        "import os\n",
        "\n",
        "def load_templates(template_folder):\n",
        "    templates = {}\n",
        "    for filename in os.listdir(template_folder):\n",
        "        if filename.endswith(\".jpg\") or filename.endswith(\".png\") or filename.endswith(\".PNG\"):\n",
        "            template_path = os.path.join(template_folder, filename)\n",
        "            templates[filename] = cv2.imread(template_path, 0)\n",
        "    return templates\n",
        "\n",
        "def match_template(image, templates):\n",
        "    gray_image = cv2.cvtColor(image, cv2.COLOR_BGR2GRAY)\n",
        "    detected_speed = None\n",
        "    max_val = 0\n",
        "\n",
        "    for template_name, template in templates.items():\n",
        "        result = cv2.matchTemplate(gray_image, template,cv2.TM_CCOEFF_NORMED)\n",
        "        _, max_val_curr, _, _ = cv2.minMaxLoc(result)\n",
        "\n",
        "        if max_val_curr > max_val:\n",
        "            max_val = max_val_curr\n",
        "            detected_speed = template_name\n",
        "\n",
        "    if detected_speed:\n",
        "        return detected_speed.split('.')[0]  # Assuming the template filenames are the speed limits (e.g., '30.jpg')\n",
        "    return None\n",
        "\n",
        "def process_images(input_folder, template_folder, output_csv):\n",
        "    templates = load_templates(template_folder)\n",
        "    results = []\n",
        "\n",
        "    for filename in os.listdir(input_folder):\n",
        "        if filename.endswith(\".jpg\") or filename.endswith(\".png\"):\n",
        "            image_path = os.path.join(input_folder, filename)\n",
        "            image = cv2.imread(image_path)\n",
        "            #image=cv2.cvtColor(image,cv2.COLOR_BGR2GRAY)\n",
        "            speed_limit = match_template(image, templates)\n",
        "            results.append([filename, speed_limit[9:]])\n",
        "\n",
        "    df = pd.DataFrame(results, columns=[\"Input image name\", \"Speed limit\"])\n",
        "    df.to_csv(output_csv, index=False)\n",
        "\n",
        "# Define your paths\n",
        "\n",
        "input_folder='/content/dataset/DataSet/Milestone 2'\n",
        "template_folder='/content/dataset/DataSet/Template images'\n",
        "output_csv='M1_Output.csv'\n",
        "\n",
        "# Run the process\n",
        "process_images(input_folder, template_folder, output_csv)\n",
        "\n"
      ],
      "metadata": {
        "id": "WSrWfF2wIN3W"
      },
      "execution_count": 27,
      "outputs": []
    },
    {
      "cell_type": "code",
      "source": [
        "import cv2\n",
        "import pandas as pd\n",
        "import os\n",
        "import numpy as np\n",
        "\n",
        "def load_templates(template_folder):\n",
        "    templates = {}\n",
        "    for filename in os.listdir(template_folder):\n",
        "        if filename.endswith(\".jpg\") or filename.endswith(\".png\") or filename.endswith(\".PNG\"):\n",
        "            template_path = os.path.join(template_folder, filename)\n",
        "            template = cv2.imread(template_path, 0)\n",
        "            if template is not None:\n",
        "                templates[filename] = template\n",
        "            else:\n",
        "                print(f\"Warning: Failed to load template {filename}\")\n",
        "    return templates\n",
        "\n",
        "def preprocess_image(image):\n",
        "    if image is None:\n",
        "        raise ValueError(\"Invalid image input for preprocessing\")\n",
        "    #gray = cv2.cvtColor(image, cv2.COLOR_BGR2GRAY)\n",
        "    blurred = cv2.GaussianBlur(image, (5, 5), 0)\n",
        "    edges = cv2.Canny(blurred, 50, 200)\n",
        "    return edges\n",
        "\n",
        "def match_template(image, templates):\n",
        "    if image is None:\n",
        "        raise ValueError(\"Invalid image input for matching\")\n",
        "    image_edges = preprocess_image(image)\n",
        "    detected_speed = None\n",
        "    max_val = 0\n",
        "\n",
        "    for template_name, template in templates.items():\n",
        "        template_edges = preprocess_image(template)\n",
        "        for angle in range(-10, 11, 2):  # Rotate templates from -10 to 10 degrees\n",
        "            M = cv2.getRotationMatrix2D((template.shape[1] // 2, template.shape[0] // 2), angle, 1)\n",
        "            rotated_template = cv2.warpAffine(template_edges, M, (template.shape[1], template.shape[0]))\n",
        "            result = cv2.matchTemplate(image_edges, rotated_template, cv2.TM_CCOEFF_NORMED)\n",
        "            _, max_val_curr, _, _ = cv2.minMaxLoc(result)\n",
        "\n",
        "            if max_val_curr > max_val:\n",
        "                max_val = max_val_curr\n",
        "                detected_speed = template_name\n",
        "\n",
        "    if detected_speed:\n",
        "        return detected_speed.split('.')[0]  # Assuming the template filenames are the speed limits (e.g., '30.jpg')\n",
        "    return None\n",
        "\n",
        "def process_images(input_folder, template_folder, output_csv):\n",
        "    templates = load_templates(template_folder)\n",
        "    results = []\n",
        "\n",
        "    for filename in os.listdir(input_folder):\n",
        "        if filename.endswith(\".jpg\") or filename.endswith(\".png\"):\n",
        "            image_path = os.path.join(input_folder, filename)\n",
        "            image = cv2.imread(image_path)\n",
        "            if image is None:\n",
        "                print(f\"Warning: Failed to load image {filename}\")\n",
        "                continue\n",
        "            speed_limit = match_template(image, templates)\n",
        "            if speed_limit is not None:\n",
        "                results.append([filename, speed_limit])\n",
        "            else:\n",
        "                print(f\"Warning: No speed limit detected for image {filename}\")\n",
        "\n",
        "    df = pd.DataFrame(results, columns=[\"Input image name\", \"Speed limit\"])\n",
        "    df.to_csv(output_csv, index=False)\n",
        "\n",
        "# Define your paths\n",
        "input_folder = '/content/dataset/DataSet/Milestone 2'\n",
        "template_folder = '/content/dataset/DataSet/Template images'\n",
        "output_csv = 'M1_Output.csv'\n",
        "\n",
        "# Run the process\n",
        "process_images(input_folder, template_folder, output_csv)\n"
      ],
      "metadata": {
        "id": "tcX-Rut7JINw"
      },
      "execution_count": 26,
      "outputs": []
    },
    {
      "cell_type": "code",
      "source": [
        "import cv2\n",
        "import pandas as pd\n",
        "import os\n",
        "import re\n",
        "\n",
        "def load_templates(template_folder):\n",
        "    templates = {}\n",
        "    for filename in os.listdir(template_folder):\n",
        "        if filename.endswith(\".jpg\") or filename.endswith(\".png\") or filename.endswith(\".PNG\"):\n",
        "            template_path = os.path.join(template_folder, filename)\n",
        "            template = cv2.imread(template_path, 0)\n",
        "            if template is not None:\n",
        "                templates[filename] = template\n",
        "            else:\n",
        "                print(f\"Warning: Failed to load template {filename}\")\n",
        "    return templates\n",
        "\n",
        "def extract_speed_from_filename(filename):\n",
        "    match = re.search(r'\\d+', filename)\n",
        "    if match:\n",
        "        return int(match.group(0))\n",
        "    return None\n",
        "\n",
        "def preprocess_image(image):\n",
        "    if image is None or image.size == 0:\n",
        "        raise ValueError(\"Invalid image input for preprocessing\")\n",
        "    if len(image.shape) == 2:\n",
        "        gray = image\n",
        "    elif len(image.shape) == 3 and image.shape[2] == 3:\n",
        "        gray = cv2.cvtColor(image, cv2.COLOR_BGR2GRAY)\n",
        "    else:\n",
        "        raise ValueError(\"Unsupported image format\")\n",
        "\n",
        "    blurred = cv2.GaussianBlur(gray, (5, 5), 0)\n",
        "    edges = cv2.Canny(blurred, 50, 200)\n",
        "    return edges\n",
        "\n",
        "def detect_vehicles(image):\n",
        "    # Placeholder function to detect vehicles based on bounding boxes\n",
        "    # This assumes bounding boxes are annotated in some way within the image.\n",
        "    # You would replace this with actual code to read annotations or detect vehicles.\n",
        "    # For now, we use dummy values:\n",
        "    return [(100, 100, 150, 150), (200, 200, 250, 250)]  # Dummy bounding boxes\n",
        "\n",
        "def match_template(image, templates):\n",
        "    if image is None or image.size == 0:\n",
        "        raise ValueError(\"Invalid image input for matching\")\n",
        "    image_edges = preprocess_image(image)\n",
        "    detected_speed = None\n",
        "    max_val = 0\n",
        "\n",
        "    for template_name, template in templates.items():\n",
        "        template_edges = preprocess_image(template)\n",
        "        for angle in range(-10, 11, 2):\n",
        "            M = cv2.getRotationMatrix2D((template.shape[1] // 2, template.shape[0] // 2), angle, 1)\n",
        "            rotated_template = cv2.warpAffine(template_edges, M, (template.shape[1], template.shape[0]))\n",
        "            if rotated_template.shape[0] > image_edges.shape[0] or rotated_template.shape[1] > image_edges.shape[1]:\n",
        "                continue\n",
        "            result = cv2.matchTemplate(image_edges, rotated_template, cv2.TM_CCOEFF_NORMED)\n",
        "            _, max_val_curr, _, _ = cv2.minMaxLoc(result)\n",
        "\n",
        "            if max_val_curr > max_val:\n",
        "                max_val = max_val_curr\n",
        "                detected_speed = template_name\n",
        "\n",
        "    if detected_speed:\n",
        "        speed = extract_speed_from_filename(detected_speed)\n",
        "        if speed is not None:\n",
        "            return speed\n",
        "    return None\n",
        "\n",
        "def process_images(input_folder, template_folder, output_csv):\n",
        "    templates = load_templates(template_folder)\n",
        "    results = []\n",
        "\n",
        "    for filename in os.listdir(input_folder):\n",
        "        if filename.endswith(\".jpg\") or filename.endswith(\".png\"):\n",
        "            image_path = os.path.join(input_folder, filename)\n",
        "            image = cv2.imread(image_path)\n",
        "            if image is None or image.size == 0:\n",
        "                print(f\"Warning: Failed to load image {filename}\")\n",
        "                continue\n",
        "            try:\n",
        "                speed_limit = match_template(image, templates)\n",
        "                if speed_limit is not None:\n",
        "                    vehicle_boxes = detect_vehicles(image)\n",
        "                    vehicle_count = len(vehicle_boxes)\n",
        "                    overspeeding_count = sum(1 for box in vehicle_boxes if get_vehicle_speed(image, box) > speed_limit)\n",
        "                    results.append([filename, speed_limit, vehicle_count, overspeeding_count])\n",
        "                else:\n",
        "                    print(f\"Warning: No speed limit detected for image {filename}\")\n",
        "            except ValueError as e:\n",
        "                print(f\"Error processing image {filename}: {e}\")\n",
        "\n",
        "    df = pd.DataFrame(results, columns=[\"Input image name\", \"Speed limit\", \"No. of vehicles\", \"No. of over speeding vehicles\"])\n",
        "    df.to_csv(output_csv, index=False)\n",
        "\n",
        "def get_vehicle_speed(image, bbox):\n",
        "    # Dummy function to return vehicle speed. Replace with actual logic to read speed from annotations.\n",
        "    return 70  # Dummy speed\n",
        "\n",
        "# Define your paths\n",
        "input_folder = '/content/dataset/DataSet/Milestone 3'\n",
        "template_folder = '/content/dataset/DataSet/Template images'\n",
        "output_csv = 'M3_Output.csv'\n",
        "\n",
        "# Run the process\n",
        "process_images(input_folder, template_folder, output_csv)\n"
      ],
      "metadata": {
        "id": "YYxQHpQTL8Wv"
      },
      "execution_count": 35,
      "outputs": []
    },
    {
      "cell_type": "code",
      "source": [
        "!pip install pytesseract"
      ],
      "metadata": {
        "colab": {
          "base_uri": "https://localhost:8080/"
        },
        "id": "eOjmGY3PPtD6",
        "outputId": "e85bf172-62b6-4f51-bea3-26e8dea024f7"
      },
      "execution_count": 37,
      "outputs": [
        {
          "output_type": "stream",
          "name": "stdout",
          "text": [
            "Collecting pytesseract\n",
            "  Downloading pytesseract-0.3.10-py3-none-any.whl.metadata (11 kB)\n",
            "Requirement already satisfied: packaging>=21.3 in /usr/local/lib/python3.10/dist-packages (from pytesseract) (24.1)\n",
            "Requirement already satisfied: Pillow>=8.0.0 in /usr/local/lib/python3.10/dist-packages (from pytesseract) (9.4.0)\n",
            "Downloading pytesseract-0.3.10-py3-none-any.whl (14 kB)\n",
            "Installing collected packages: pytesseract\n",
            "Successfully installed pytesseract-0.3.10\n"
          ]
        }
      ]
    },
    {
      "cell_type": "code",
      "source": [
        "!apt-get update\n",
        "!apt-get install -y tesseract-ocr\n"
      ],
      "metadata": {
        "colab": {
          "base_uri": "https://localhost:8080/"
        },
        "id": "Noap5K6kQggy",
        "outputId": "405e7271-de0e-46f4-9f15-675b7aecd84a"
      },
      "execution_count": 39,
      "outputs": [
        {
          "output_type": "stream",
          "name": "stdout",
          "text": [
            "\r0% [Working]\r            \rGet:1 https://cloud.r-project.org/bin/linux/ubuntu jammy-cran40/ InRelease [3,626 B]\n",
            "\r0% [Connecting to archive.ubuntu.com (185.125.190.82)] [Waiting for headers] [1 InRelease 0 B/3,626 \r0% [Connecting to archive.ubuntu.com (185.125.190.82)] [Waiting for headers] [Waiting for headers] [\r                                                                                                    \rGet:2 https://developer.download.nvidia.com/compute/cuda/repos/ubuntu2204/x86_64  InRelease [1,581 B]\n",
            "\r0% [Connecting to archive.ubuntu.com (185.125.190.82)] [Waiting for headers] [Waiting for headers] [\r0% [Connecting to archive.ubuntu.com (185.125.190.82)] [Waiting for headers] [Waiting for headers] [\r                                                                                                    \rGet:3 http://security.ubuntu.com/ubuntu jammy-security InRelease [129 kB]\n",
            "Ign:4 https://r2u.stat.illinois.edu/ubuntu jammy InRelease\n",
            "Get:5 https://r2u.stat.illinois.edu/ubuntu jammy Release [5,713 B]\n",
            "Get:6 https://r2u.stat.illinois.edu/ubuntu jammy Release.gpg [793 B]\n",
            "Hit:7 http://archive.ubuntu.com/ubuntu jammy InRelease\n",
            "Get:8 http://archive.ubuntu.com/ubuntu jammy-updates InRelease [128 kB]\n",
            "Hit:9 https://ppa.launchpadcontent.net/deadsnakes/ppa/ubuntu jammy InRelease\n",
            "Get:10 https://developer.download.nvidia.com/compute/cuda/repos/ubuntu2204/x86_64  Packages [861 kB]\n",
            "Hit:11 https://ppa.launchpadcontent.net/graphics-drivers/ppa/ubuntu jammy InRelease\n",
            "Hit:12 https://ppa.launchpadcontent.net/ubuntugis/ppa/ubuntu jammy InRelease\n",
            "Get:13 http://archive.ubuntu.com/ubuntu jammy-backports InRelease [127 kB]\n",
            "Get:14 https://r2u.stat.illinois.edu/ubuntu jammy/main all Packages [8,217 kB]\n",
            "Get:15 https://r2u.stat.illinois.edu/ubuntu jammy/main amd64 Packages [2,552 kB]\n",
            "Get:16 http://security.ubuntu.com/ubuntu jammy-security/universe amd64 Packages [1,130 kB]\n",
            "Get:17 http://security.ubuntu.com/ubuntu jammy-security/main amd64 Packages [2,115 kB]\n",
            "Get:18 http://security.ubuntu.com/ubuntu jammy-security/restricted amd64 Packages [2,785 kB]\n",
            "Get:19 http://archive.ubuntu.com/ubuntu jammy-updates/universe amd64 Packages [1,421 kB]\n",
            "Get:20 http://archive.ubuntu.com/ubuntu jammy-updates/restricted amd64 Packages [2,884 kB]\n",
            "Get:21 http://archive.ubuntu.com/ubuntu jammy-updates/main amd64 Packages [2,396 kB]\n",
            "Fetched 24.8 MB in 3s (7,196 kB/s)\n",
            "Reading package lists... Done\n",
            "W: Skipping acquire of configured file 'main/source/Sources' as repository 'https://r2u.stat.illinois.edu/ubuntu jammy InRelease' does not seem to provide it (sources.list entry misspelt?)\n",
            "Reading package lists... Done\n",
            "Building dependency tree... Done\n",
            "Reading state information... Done\n",
            "The following additional packages will be installed:\n",
            "  tesseract-ocr-eng tesseract-ocr-osd\n",
            "The following NEW packages will be installed:\n",
            "  tesseract-ocr tesseract-ocr-eng tesseract-ocr-osd\n",
            "0 upgraded, 3 newly installed, 0 to remove and 62 not upgraded.\n",
            "Need to get 4,816 kB of archives.\n",
            "After this operation, 15.6 MB of additional disk space will be used.\n",
            "Get:1 http://archive.ubuntu.com/ubuntu jammy/universe amd64 tesseract-ocr-eng all 1:4.00~git30-7274cfa-1.1 [1,591 kB]\n",
            "Get:2 http://archive.ubuntu.com/ubuntu jammy/universe amd64 tesseract-ocr-osd all 1:4.00~git30-7274cfa-1.1 [2,990 kB]\n",
            "Get:3 http://archive.ubuntu.com/ubuntu jammy/universe amd64 tesseract-ocr amd64 4.1.1-2.1build1 [236 kB]\n",
            "Fetched 4,816 kB in 1s (5,320 kB/s)\n",
            "Selecting previously unselected package tesseract-ocr-eng.\n",
            "(Reading database ... 123588 files and directories currently installed.)\n",
            "Preparing to unpack .../tesseract-ocr-eng_1%3a4.00~git30-7274cfa-1.1_all.deb ...\n",
            "Unpacking tesseract-ocr-eng (1:4.00~git30-7274cfa-1.1) ...\n",
            "Selecting previously unselected package tesseract-ocr-osd.\n",
            "Preparing to unpack .../tesseract-ocr-osd_1%3a4.00~git30-7274cfa-1.1_all.deb ...\n",
            "Unpacking tesseract-ocr-osd (1:4.00~git30-7274cfa-1.1) ...\n",
            "Selecting previously unselected package tesseract-ocr.\n",
            "Preparing to unpack .../tesseract-ocr_4.1.1-2.1build1_amd64.deb ...\n",
            "Unpacking tesseract-ocr (4.1.1-2.1build1) ...\n",
            "Setting up tesseract-ocr-eng (1:4.00~git30-7274cfa-1.1) ...\n",
            "Setting up tesseract-ocr-osd (1:4.00~git30-7274cfa-1.1) ...\n",
            "Setting up tesseract-ocr (4.1.1-2.1build1) ...\n",
            "Processing triggers for man-db (2.10.2-1) ...\n"
          ]
        }
      ]
    }
  ]
}